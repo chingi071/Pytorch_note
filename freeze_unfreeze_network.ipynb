{
 "cells": [
  {
   "cell_type": "code",
   "execution_count": 1,
   "id": "58dc68d2",
   "metadata": {},
   "outputs": [],
   "source": [
    "import torch\n",
    "import torch.nn as nn\n",
    "import torchvision.models as models"
   ]
  },
  {
   "cell_type": "markdown",
   "id": "ae364b92",
   "metadata": {},
   "source": [
    "# 凍結 pre-trained model weight\n",
    "可使用 pytorch 的 torchvision.models 中所提供的模型權重，也可以使用自己訓練或下載的模型權重檔。\n",
    "\n",
    "## 使用 pytorch 提供的 pre-trained model weight"
   ]
  },
  {
   "cell_type": "code",
   "execution_count": 2,
   "id": "264e9f6f-f8de-47ac-9478-fbe9ce3cfb40",
   "metadata": {},
   "outputs": [],
   "source": [
    "model_1 = models.resnet18(pretrained=True)"
   ]
  },
  {
   "cell_type": "code",
   "execution_count": 3,
   "id": "e41dc6cf",
   "metadata": {
    "scrolled": true
   },
   "outputs": [
    {
     "name": "stdout",
     "output_type": "stream",
     "text": [
      "name:  conv1.weight\n",
      "requires_grad:  True\n",
      "name:  bn1.weight\n",
      "requires_grad:  True\n",
      "name:  bn1.bias\n",
      "requires_grad:  True\n",
      "name:  layer1.0.conv1.weight\n",
      "requires_grad:  True\n",
      "name:  layer1.0.bn1.weight\n",
      "requires_grad:  True\n",
      "name: fc.weight\n",
      "requires_grad:  True\n",
      "name: fc.bias\n",
      "requires_grad:  True\n"
     ]
    }
   ],
   "source": [
    "cnt = 0\n",
    "for name, param in model_1.named_parameters():\n",
    "    print(\"name: \", name)\n",
    "    print(\"requires_grad: \", param.requires_grad)\n",
    "    \n",
    "    cnt += 1\n",
    "    if cnt == 5:\n",
    "        break\n",
    "\n",
    "print(\"name: fc.weight\")\n",
    "print(\"requires_grad: \", model_1.fc.weight.requires_grad)\n",
    "\n",
    "print(\"name: fc.bias\")\n",
    "print(\"requires_grad: \", model_1.fc.bias.requires_grad)"
   ]
  },
  {
   "cell_type": "markdown",
   "id": "7a72aeec",
   "metadata": {},
   "source": [
    "### 將除了全連接層以外的網路層都凍結"
   ]
  },
  {
   "cell_type": "code",
   "execution_count": 4,
   "id": "7c0f1beb",
   "metadata": {},
   "outputs": [],
   "source": [
    "for name, param in model_1.named_parameters():\n",
    "    if name not in ['fc.weight', 'fc.bias']:\n",
    "        param.requires_grad = False"
   ]
  },
  {
   "cell_type": "code",
   "execution_count": 5,
   "id": "ab1542e4",
   "metadata": {},
   "outputs": [
    {
     "name": "stdout",
     "output_type": "stream",
     "text": [
      "name:  conv1.weight\n",
      "requires_grad:  False\n",
      "name:  bn1.weight\n",
      "requires_grad:  False\n",
      "name:  bn1.bias\n",
      "requires_grad:  False\n",
      "name:  layer1.0.conv1.weight\n",
      "requires_grad:  False\n",
      "name:  layer1.0.bn1.weight\n",
      "requires_grad:  False\n",
      "name: fc.weight\n",
      "requires_grad:  True\n",
      "name: fc.bias\n",
      "requires_grad:  True\n"
     ]
    }
   ],
   "source": [
    "cnt = 0\n",
    "for name, param in model_1.named_parameters():\n",
    "    print(\"name: \", name)\n",
    "    print(\"requires_grad: \", param.requires_grad)\n",
    "    \n",
    "    cnt += 1\n",
    "    if cnt == 5:\n",
    "        break\n",
    "\n",
    "print(\"name: fc.weight\")\n",
    "print(\"requires_grad: \", model_1.fc.weight.requires_grad)\n",
    "\n",
    "print(\"name: fc.bias\")\n",
    "print(\"requires_grad: \", model_1.fc.bias.requires_grad)"
   ]
  },
  {
   "cell_type": "markdown",
   "id": "2570dd74",
   "metadata": {},
   "source": [
    "### 在優化器中加入 filter 進行過濾\n",
    "\n",
    "filter() 用於過濾不符合條件的元素，其語法為 filter(function, iterable)，其中 function 為判斷條件、iterable 為元素列表，返回值為一個迭代器。進行過濾的過程是將 iterable 的值傳遞給 function 進行判斷，返回值為 True 的元素才會放入要回傳的迭代器中。"
   ]
  },
  {
   "cell_type": "code",
   "execution_count": 6,
   "id": "f693e719",
   "metadata": {},
   "outputs": [
    {
     "data": {
      "text/plain": [
       "[1, 3, 5, 7, 9]"
      ]
     },
     "execution_count": 6,
     "metadata": {},
     "output_type": "execute_result"
    }
   ],
   "source": [
    "### filter example\n",
    "\n",
    "def is_odd(n):\n",
    "    return n % 2 == 1\n",
    " \n",
    "newlist = filter(is_odd, [i for i in range(10)])\n",
    "\n",
    "list(newlist)"
   ]
  },
  {
   "cell_type": "code",
   "execution_count": 7,
   "id": "76103901",
   "metadata": {},
   "outputs": [],
   "source": [
    "# 進行過濾\n",
    "parameters_1 = filter(lambda p: p.requires_grad, model_1.parameters())\n",
    "optimizer_1 = torch.optim.Adam(parameters_1, lr=0.001, weight_decay=1e-5)"
   ]
  },
  {
   "cell_type": "markdown",
   "id": "908e2bc8",
   "metadata": {},
   "source": [
    "## 使用自己訓練或下載的權重檔"
   ]
  },
  {
   "cell_type": "code",
   "execution_count": null,
   "id": "2df5254b",
   "metadata": {},
   "outputs": [],
   "source": [
    "import gdown\n",
    "\n",
    "resnet_model = 'https://download.pytorch.org/models/resnet18-5c106cde.pth'\n",
    "gdown.download(resnet_model, \"resnet-5c106cde.pth\")"
   ]
  },
  {
   "cell_type": "code",
   "execution_count": 8,
   "id": "6e44bc14",
   "metadata": {},
   "outputs": [],
   "source": [
    "checkpoint = torch.load('resnet-5c106cde.pth')"
   ]
  },
  {
   "cell_type": "code",
   "execution_count": 9,
   "id": "177b71a2",
   "metadata": {},
   "outputs": [
    {
     "name": "stdout",
     "output_type": "stream",
     "text": [
      "name:  conv1.weight\n",
      "requires_grad:  True\n",
      "name:  bn1.running_mean\n",
      "requires_grad:  False\n",
      "name:  bn1.running_var\n",
      "requires_grad:  False\n",
      "name:  bn1.weight\n",
      "requires_grad:  True\n",
      "name:  bn1.bias\n",
      "requires_grad:  True\n",
      "name: fc.weight\n",
      "requires_grad:  True\n",
      "name: fc.bias\n",
      "requires_grad:  True\n"
     ]
    }
   ],
   "source": [
    "cnt = 0\n",
    "for k, v in checkpoint.items():\n",
    "    print(\"name: \", k)\n",
    "    print(\"requires_grad: \", v.requires_grad)\n",
    "    \n",
    "    cnt += 1\n",
    "    if cnt == 5:\n",
    "        break\n",
    "        \n",
    "print(\"name: fc.weight\")\n",
    "print(\"requires_grad: \", checkpoint['fc.weight'].requires_grad)\n",
    "\n",
    "print(\"name: fc.bias\")\n",
    "print(\"requires_grad: \", checkpoint['fc.bias'].requires_grad)"
   ]
  },
  {
   "cell_type": "markdown",
   "id": "091a6a0c",
   "metadata": {},
   "source": [
    "### 將除了全連接層以外的網路層都凍結"
   ]
  },
  {
   "cell_type": "code",
   "execution_count": 10,
   "id": "1a8a3d51",
   "metadata": {},
   "outputs": [],
   "source": [
    "for k, v in checkpoint.items():\n",
    "    if k not in ['fc.weight', 'fc.bias']:\n",
    "        v.requires_grad = False"
   ]
  },
  {
   "cell_type": "code",
   "execution_count": 11,
   "id": "9e9ffaf9",
   "metadata": {},
   "outputs": [
    {
     "name": "stdout",
     "output_type": "stream",
     "text": [
      "name:  conv1.weight\n",
      "requires_grad:  False\n",
      "name:  bn1.running_mean\n",
      "requires_grad:  False\n",
      "name:  bn1.running_var\n",
      "requires_grad:  False\n",
      "name:  bn1.weight\n",
      "requires_grad:  False\n",
      "name:  bn1.bias\n",
      "requires_grad:  False\n",
      "name: fc.weight\n",
      "requires_grad:  True\n",
      "name: fc.bias\n",
      "requires_grad:  True\n"
     ]
    }
   ],
   "source": [
    "cnt = 0\n",
    "for k, v in checkpoint.items():\n",
    "    print(\"name: \", k)\n",
    "    print(\"requires_grad: \", v.requires_grad)\n",
    "    \n",
    "    cnt += 1\n",
    "    if cnt == 5:\n",
    "        break\n",
    "        \n",
    "print(\"name: fc.weight\")\n",
    "print(\"requires_grad: \", checkpoint['fc.weight'].requires_grad)\n",
    "\n",
    "print(\"name: fc.bias\")\n",
    "print(\"requires_grad: \", checkpoint['fc.bias'].requires_grad)"
   ]
  },
  {
   "cell_type": "markdown",
   "id": "997f106e",
   "metadata": {},
   "source": [
    "### 在優化器中加入 filter 進行過濾"
   ]
  },
  {
   "cell_type": "code",
   "execution_count": 12,
   "id": "a28603c2",
   "metadata": {},
   "outputs": [
    {
     "data": {
      "text/plain": [
       "<All keys matched successfully>"
      ]
     },
     "execution_count": 12,
     "metadata": {},
     "output_type": "execute_result"
    }
   ],
   "source": [
    "model_2 = models.resnet18()\n",
    "model_state = model_2.state_dict()\n",
    "\n",
    "pretrained_dict = {k: v for k, v in checkpoint.items() if k in model_state}\n",
    "model_state.update(pretrained_dict)\n",
    "model_2.load_state_dict(model_state)"
   ]
  },
  {
   "cell_type": "code",
   "execution_count": 13,
   "id": "a0ef378b",
   "metadata": {},
   "outputs": [],
   "source": [
    "parameters_2 = filter(lambda p: p.requires_grad, model_2.parameters())\n",
    "optimizer_2 = torch.optim.Adam(parameters_2, lr=0.001, weight_decay=1e-5)"
   ]
  },
  {
   "cell_type": "markdown",
   "id": "db49c021",
   "metadata": {},
   "source": [
    "### 將 50 層內的 layer 凍結"
   ]
  },
  {
   "cell_type": "code",
   "execution_count": 14,
   "id": "90b53d35",
   "metadata": {},
   "outputs": [],
   "source": [
    "checkpoint = torch.load('resnet-5c106cde.pth')\n",
    "for i, (k, v) in enumerate(checkpoint.items()):\n",
    "    if i < 50:\n",
    "        v.requires_grad = False"
   ]
  },
  {
   "cell_type": "code",
   "execution_count": 15,
   "id": "4a96f7a5",
   "metadata": {},
   "outputs": [
    {
     "data": {
      "text/plain": [
       "<All keys matched successfully>"
      ]
     },
     "execution_count": 15,
     "metadata": {},
     "output_type": "execute_result"
    }
   ],
   "source": [
    "model_3 = models.resnet18()\n",
    "model_state = model_3.state_dict()\n",
    "\n",
    "pretrained_dict = {k: v for k, v in checkpoint.items() if k in model_state}\n",
    "model_state.update(pretrained_dict)\n",
    "model_3.load_state_dict(model_state)"
   ]
  },
  {
   "cell_type": "code",
   "execution_count": 16,
   "id": "128cbef2",
   "metadata": {},
   "outputs": [],
   "source": [
    "parameters_3 = filter(lambda p: p.requires_grad, model_3.parameters())\n",
    "optimizer_3 = torch.optim.Adam(parameters_3, lr=0.001, weight_decay=1e-5)"
   ]
  },
  {
   "cell_type": "markdown",
   "id": "6cceac48",
   "metadata": {},
   "source": [
    "# 解除凍結\n",
    "### 使用 pytorch 提供的 pre-trained model weight"
   ]
  },
  {
   "cell_type": "code",
   "execution_count": 17,
   "id": "2c93dc11",
   "metadata": {},
   "outputs": [
    {
     "name": "stdout",
     "output_type": "stream",
     "text": [
      "name:  conv1.weight\n",
      "requires_grad:  False\n",
      "name:  bn1.weight\n",
      "requires_grad:  False\n",
      "name:  bn1.bias\n",
      "requires_grad:  False\n",
      "name:  layer1.0.conv1.weight\n",
      "requires_grad:  False\n",
      "name:  layer1.0.bn1.weight\n",
      "requires_grad:  False\n"
     ]
    }
   ],
   "source": [
    "cnt = 0\n",
    "for name, param in model_1.named_parameters():\n",
    "    print(\"name: \", name)\n",
    "    print(\"requires_grad: \", param.requires_grad)\n",
    "    \n",
    "    cnt += 1\n",
    "    if cnt == 5:\n",
    "        break"
   ]
  },
  {
   "cell_type": "code",
   "execution_count": 18,
   "id": "db5df00a",
   "metadata": {},
   "outputs": [],
   "source": [
    "for name, param in model_1.named_parameters():\n",
    "    if param.requires_grad == False:\n",
    "        param.requires_grad = True\n",
    "        optimizer_1.add_param_group({'params': param})"
   ]
  },
  {
   "cell_type": "code",
   "execution_count": 19,
   "id": "5679646a",
   "metadata": {},
   "outputs": [
    {
     "name": "stdout",
     "output_type": "stream",
     "text": [
      "name:  conv1.weight\n",
      "requires_grad:  True\n",
      "name:  bn1.weight\n",
      "requires_grad:  True\n",
      "name:  bn1.bias\n",
      "requires_grad:  True\n",
      "name:  layer1.0.conv1.weight\n",
      "requires_grad:  True\n",
      "name:  layer1.0.bn1.weight\n",
      "requires_grad:  True\n"
     ]
    }
   ],
   "source": [
    "cnt = 0\n",
    "for name, param in model_1.named_parameters():\n",
    "    print(\"name: \", name)\n",
    "    print(\"requires_grad: \", param.requires_grad)\n",
    "    \n",
    "    cnt += 1\n",
    "    if cnt == 5:\n",
    "        break"
   ]
  },
  {
   "cell_type": "markdown",
   "id": "b1a019b1",
   "metadata": {},
   "source": [
    "### 使用自己訓練或下載的權重檔\n"
   ]
  },
  {
   "cell_type": "code",
   "execution_count": 20,
   "id": "cc0b5650",
   "metadata": {},
   "outputs": [
    {
     "name": "stdout",
     "output_type": "stream",
     "text": [
      "name:  conv1.weight\n",
      "requires_grad:  True\n",
      "name:  bn1.weight\n",
      "requires_grad:  True\n",
      "name:  bn1.bias\n",
      "requires_grad:  True\n",
      "name:  layer1.0.conv1.weight\n",
      "requires_grad:  True\n",
      "name:  layer1.0.bn1.weight\n",
      "requires_grad:  True\n"
     ]
    }
   ],
   "source": [
    "cnt = 0\n",
    "for name, param in model_2.named_parameters():\n",
    "    print(\"name: \", name)\n",
    "    print(\"requires_grad: \", param.requires_grad)\n",
    "    \n",
    "    cnt += 1\n",
    "    if cnt == 5:\n",
    "        break"
   ]
  },
  {
   "cell_type": "code",
   "execution_count": 21,
   "id": "6c87adba",
   "metadata": {},
   "outputs": [],
   "source": [
    "for name, param in model_2.named_parameters():\n",
    "    if param.requires_grad == False:\n",
    "        param.requires_grad = True\n",
    "        optimizer_2.add_param_group({'params': param})"
   ]
  },
  {
   "cell_type": "code",
   "execution_count": 22,
   "id": "ebbed267",
   "metadata": {},
   "outputs": [
    {
     "name": "stdout",
     "output_type": "stream",
     "text": [
      "name:  conv1.weight\n",
      "requires_grad:  True\n",
      "name:  bn1.weight\n",
      "requires_grad:  True\n",
      "name:  bn1.bias\n",
      "requires_grad:  True\n",
      "name:  layer1.0.conv1.weight\n",
      "requires_grad:  True\n",
      "name:  layer1.0.bn1.weight\n",
      "requires_grad:  True\n"
     ]
    }
   ],
   "source": [
    "cnt = 0\n",
    "for name, param in model_2.named_parameters():\n",
    "    print(\"name: \", name)\n",
    "    print(\"requires_grad: \", param.requires_grad)\n",
    "    \n",
    "    cnt += 1\n",
    "    if cnt == 5:\n",
    "        break"
   ]
  },
  {
   "cell_type": "markdown",
   "id": "862df866",
   "metadata": {},
   "source": [
    "# 設置不同 learning rate\n",
    "\n",
    "針對不同層的 layer 設定各自的 learning rate，有三種方法: 直接設定參數名稱、設定某一層的全部參數、將所有 layer 拆分成幾部分後再設定"
   ]
  },
  {
   "cell_type": "code",
   "execution_count": null,
   "id": "a09285c9",
   "metadata": {},
   "outputs": [],
   "source": [
    "# 查看 layer 名稱\n",
    "# for name, param in model_1.named_parameters():\n",
    "#     print(name)"
   ]
  },
  {
   "cell_type": "markdown",
   "id": "7c7867ed",
   "metadata": {},
   "source": [
    "### 直接設定參數名稱"
   ]
  },
  {
   "cell_type": "code",
   "execution_count": 25,
   "id": "b1955175",
   "metadata": {},
   "outputs": [],
   "source": [
    "optimizer_4 = torch.optim.Adam([\n",
    "    {'params': model_1.fc.weight, 'lr': 1e-5},\n",
    "    {'params': model_1.fc.bias, 'lr': 1e-3}],\n",
    "    lr=0.001) # 默認 learning rate 值"
   ]
  },
  {
   "cell_type": "markdown",
   "id": "2220971b",
   "metadata": {},
   "source": [
    "### 設定某一層的全部參數"
   ]
  },
  {
   "cell_type": "code",
   "execution_count": 26,
   "id": "a4f9b8b5",
   "metadata": {},
   "outputs": [],
   "source": [
    "optimizer_5 = torch.optim.Adam([\n",
    "    {'params': model_1.layer1.parameters(), 'lr': 1e-5},\n",
    "    {'params': model_1.fc.parameters(), 'lr': 1e-3}],\n",
    "    lr=0.001) # 默認 learning rate 值"
   ]
  },
  {
   "cell_type": "markdown",
   "id": "cc75e057",
   "metadata": {},
   "source": [
    "### 將所有layer拆分成幾部分後再設定"
   ]
  },
  {
   "cell_type": "code",
   "execution_count": 27,
   "id": "5c6f9895",
   "metadata": {},
   "outputs": [],
   "source": [
    "fc_layer = list(map(id, model_1.fc.parameters()))\n",
    "other_layer = filter(lambda p: id(p) not in fc_layer, model_1.parameters())"
   ]
  },
  {
   "cell_type": "code",
   "execution_count": 28,
   "id": "d1beb57c",
   "metadata": {},
   "outputs": [],
   "source": [
    "optimizer_6 = torch.optim.Adam([\n",
    "    {'params': other_layer, 'lr': 1e-5},\n",
    "    {'params': model_1.fc.parameters(), 'lr': 1e-3}],\n",
    "    lr=0.001) # 默認 learning rate 值"
   ]
  }
 ],
 "metadata": {
  "kernelspec": {
   "display_name": "pytorch",
   "language": "python",
   "name": "pytorch"
  },
  "language_info": {
   "codemirror_mode": {
    "name": "ipython",
    "version": 3
   },
   "file_extension": ".py",
   "mimetype": "text/x-python",
   "name": "python",
   "nbconvert_exporter": "python",
   "pygments_lexer": "ipython3",
   "version": "3.7.11"
  }
 },
 "nbformat": 4,
 "nbformat_minor": 5
}
