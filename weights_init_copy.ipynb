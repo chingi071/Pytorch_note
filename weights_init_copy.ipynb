{
 "cells": [
  {
   "cell_type": "code",
   "execution_count": 2,
   "id": "adb52f6b",
   "metadata": {},
   "outputs": [],
   "source": [
    "import torch\n",
    "import torch.nn as nn\n",
    "import torchvision.models as models"
   ]
  },
  {
   "cell_type": "markdown",
   "id": "7f67ddc7",
   "metadata": {},
   "source": [
    "# 權重初始化定義在模型內部"
   ]
  },
  {
   "cell_type": "markdown",
   "id": "c0a61e59",
   "metadata": {},
   "source": [
    "## torch.nn.Parameter"
   ]
  },
  {
   "cell_type": "code",
   "execution_count": 3,
   "id": "d277ce25",
   "metadata": {},
   "outputs": [],
   "source": [
    "class MyModel(nn.Module):\n",
    "    def __init__(self):\n",
    "        super(MyModel, self).__init__()\n",
    "        self.net = models.resnet18()\n",
    "        print(\"weights: \", self.net.fc.weight[0][:10])\n",
    "        print(\"bias: \", self.net.fc.bias[:10])\n",
    "        print(\"=====================\")\n",
    "        \n",
    "        self.net.fc.weight = torch.nn.Parameter(torch.ones(self.net.fc.weight.shape)*0.9, requires_grad=True)\n",
    "        self.net.fc.bias = torch.nn.Parameter(torch.zeros(self.net.fc.bias.shape), requires_grad=True)\n",
    "        print(\"weights: \", self.net.fc.weight[0][:10])\n",
    "        print(\"bias: \", self.net.fc.bias[:10])\n",
    "        \n",
    "    def forward(self, x):\n",
    "        output = self.net(x)\n",
    "        return output"
   ]
  },
  {
   "cell_type": "code",
   "execution_count": 4,
   "id": "8f7d5583",
   "metadata": {},
   "outputs": [
    {
     "name": "stdout",
     "output_type": "stream",
     "text": [
      "weights:  tensor([ 0.0426,  0.0268, -0.0006, -0.0057, -0.0088, -0.0295, -0.0015,  0.0246,\n",
      "        -0.0041,  0.0095], grad_fn=<SliceBackward0>)\n",
      "bias:  tensor([ 0.0128,  0.0003,  0.0330, -0.0188, -0.0301, -0.0290,  0.0102, -0.0316,\n",
      "         0.0381, -0.0402], grad_fn=<SliceBackward0>)\n",
      "=====================\n",
      "weights:  tensor([0.9000, 0.9000, 0.9000, 0.9000, 0.9000, 0.9000, 0.9000, 0.9000, 0.9000,\n",
      "        0.9000], grad_fn=<SliceBackward0>)\n",
      "bias:  tensor([0., 0., 0., 0., 0., 0., 0., 0., 0., 0.], grad_fn=<SliceBackward0>)\n"
     ]
    }
   ],
   "source": [
    "model = MyModel()"
   ]
  },
  {
   "cell_type": "markdown",
   "id": "100d363a",
   "metadata": {},
   "source": [
    "## data.normal_、data.zero_"
   ]
  },
  {
   "cell_type": "code",
   "execution_count": 5,
   "id": "72968ab8",
   "metadata": {},
   "outputs": [],
   "source": [
    "class MyModel(nn.Module):\n",
    "    def __init__(self):\n",
    "        super(MyModel, self).__init__()\n",
    "        self.net = models.resnet18()\n",
    "        print(\"weights: \", self.net.fc.weight[0][:10])\n",
    "        print(\"bias: \", self.net.fc.bias[:10])\n",
    "        print(\"=====================\")\n",
    "        \n",
    "        self.net.fc.weight.data.normal_(mean=0.0, std=1.0)\n",
    "        self.net.fc.bias.data.zero_()\n",
    "        \n",
    "        print(\"weights: \", self.net.fc.weight[0][:10])\n",
    "        print(\"bias: \", self.net.fc.bias[:10])\n",
    "        \n",
    "    def forward(self, x):\n",
    "        output = self.net(x)\n",
    "        return output"
   ]
  },
  {
   "cell_type": "code",
   "execution_count": 6,
   "id": "c7c82a59",
   "metadata": {},
   "outputs": [
    {
     "name": "stdout",
     "output_type": "stream",
     "text": [
      "weights:  tensor([-0.0244, -0.0371, -0.0281,  0.0006,  0.0299, -0.0292, -0.0032, -0.0422,\n",
      "         0.0313, -0.0164], grad_fn=<SliceBackward0>)\n",
      "bias:  tensor([ 0.0148, -0.0264, -0.0145,  0.0291, -0.0015,  0.0304, -0.0170,  0.0353,\n",
      "        -0.0319,  0.0003], grad_fn=<SliceBackward0>)\n",
      "=====================\n",
      "weights:  tensor([ 0.2429, -0.5703, -1.5922,  0.3605,  0.5135,  0.3904, -0.4094, -0.3470,\n",
      "         0.2323,  0.1666], grad_fn=<SliceBackward0>)\n",
      "bias:  tensor([0., 0., 0., 0., 0., 0., 0., 0., 0., 0.], grad_fn=<SliceBackward0>)\n"
     ]
    }
   ],
   "source": [
    "model = MyModel()"
   ]
  },
  {
   "cell_type": "markdown",
   "id": "c217139b",
   "metadata": {},
   "source": [
    "## nn.init.normal_、nn.init.zeros_"
   ]
  },
  {
   "cell_type": "code",
   "execution_count": 7,
   "id": "1ad8eb69",
   "metadata": {},
   "outputs": [],
   "source": [
    "class MyModel(nn.Module):\n",
    "    def __init__(self):\n",
    "        super(MyModel, self).__init__()\n",
    "        self.net = models.resnet18()\n",
    "        print(\"weights: \", self.net.fc.weight[0][:10])\n",
    "        print(\"bias: \", self.net.fc.bias[:10])\n",
    "        print(\"=====================\")\n",
    "        \n",
    "        nn.init.normal_(self.net.fc.weight.data, mean=0.0, std=1.0)\n",
    "        nn.init.zeros_(self.net.fc.bias.data)\n",
    "        \n",
    "        print(\"weights: \", self.net.fc.weight[0][:10])\n",
    "        print(\"bias: \", self.net.fc.bias[:10])\n",
    "        \n",
    "    def forward(self, x):\n",
    "        output = self.net(x)\n",
    "        return output"
   ]
  },
  {
   "cell_type": "code",
   "execution_count": 8,
   "id": "559f7280",
   "metadata": {},
   "outputs": [
    {
     "name": "stdout",
     "output_type": "stream",
     "text": [
      "weights:  tensor([ 0.0296,  0.0150,  0.0162,  0.0311,  0.0227,  0.0142,  0.0257,  0.0052,\n",
      "         0.0267, -0.0273], grad_fn=<SliceBackward0>)\n",
      "bias:  tensor([-0.0106, -0.0324,  0.0441, -0.0311, -0.0144, -0.0150,  0.0284,  0.0063,\n",
      "         0.0424, -0.0204], grad_fn=<SliceBackward0>)\n",
      "=====================\n",
      "weights:  tensor([ 0.1584,  0.3998,  0.8412, -0.6938, -2.1568, -1.2821, -0.7416, -1.8385,\n",
      "         1.6660, -0.3524], grad_fn=<SliceBackward0>)\n",
      "bias:  tensor([0., 0., 0., 0., 0., 0., 0., 0., 0., 0.], grad_fn=<SliceBackward0>)\n"
     ]
    }
   ],
   "source": [
    "model = MyModel()"
   ]
  },
  {
   "cell_type": "markdown",
   "id": "b3779250",
   "metadata": {},
   "source": [
    "## nn.init.constant_"
   ]
  },
  {
   "cell_type": "code",
   "execution_count": 9,
   "id": "de3a0083",
   "metadata": {},
   "outputs": [],
   "source": [
    "class MyModel(nn.Module):\n",
    "    def __init__(self):\n",
    "        super(MyModel, self).__init__()\n",
    "        self.net = models.resnet18()\n",
    "        print(\"weights: \", self.net.fc.weight[0][:10])\n",
    "        print(\"bias: \", self.net.fc.bias[:10])\n",
    "        print(\"=====================\")\n",
    "        \n",
    "        nn.init.constant_(self.net.fc.weight, 1)\n",
    "        nn.init.constant_(self.net.fc.bias, 0)\n",
    "        \n",
    "        print(\"weights: \", self.net.fc.weight[0][:10])\n",
    "        print(\"bias: \", self.net.fc.bias[:10])\n",
    "        \n",
    "    def forward(self, x):\n",
    "        output = self.net(x)\n",
    "        return output"
   ]
  },
  {
   "cell_type": "code",
   "execution_count": 10,
   "id": "48ccdb1d",
   "metadata": {},
   "outputs": [
    {
     "name": "stdout",
     "output_type": "stream",
     "text": [
      "weights:  tensor([ 0.0248,  0.0262,  0.0107,  0.0300, -0.0369,  0.0325,  0.0136, -0.0440,\n",
      "         0.0023,  0.0258], grad_fn=<SliceBackward0>)\n",
      "bias:  tensor([ 9.7215e-05, -4.1210e-03, -3.4068e-02,  2.0162e-02,  3.1296e-02,\n",
      "        -3.7656e-03,  3.4689e-02, -2.4909e-02,  3.8025e-02,  1.4642e-02],\n",
      "       grad_fn=<SliceBackward0>)\n",
      "=====================\n",
      "weights:  tensor([1., 1., 1., 1., 1., 1., 1., 1., 1., 1.], grad_fn=<SliceBackward0>)\n",
      "bias:  tensor([0., 0., 0., 0., 0., 0., 0., 0., 0., 0.], grad_fn=<SliceBackward0>)\n"
     ]
    }
   ],
   "source": [
    "model = MyModel()"
   ]
  },
  {
   "cell_type": "markdown",
   "id": "1dcbee20",
   "metadata": {},
   "source": [
    "## apply\n",
    "### nn.init 寫法"
   ]
  },
  {
   "cell_type": "code",
   "execution_count": 11,
   "id": "578ae06c",
   "metadata": {},
   "outputs": [],
   "source": [
    "class MyModel(nn.Module):\n",
    "    def __init__(self):\n",
    "        super(MyModel, self).__init__()\n",
    "        self.net = models.resnet18()\n",
    "        print(\"weights: \", self.net.fc.weight[0][:10])\n",
    "        print(\"bias: \", self.net.fc.bias[:10])\n",
    "        print(\"=====================\")\n",
    "        \n",
    "        self.apply(self.init_weights)\n",
    "        print(\"weights: \", self.net.fc.weight[0][:10])\n",
    "        print(\"bias: \", self.net.fc.bias[:10])\n",
    "        \n",
    "    def init_weights(self, module):\n",
    "        if isinstance(module, nn.Linear):\n",
    "            nn.init.normal_(module.weight.data, mean=0.0, std=1.0)\n",
    "            \n",
    "            if module.bias is not None:\n",
    "                nn.init.zeros_(module.bias.data)\n",
    "        \n",
    "    def forward(self, x):\n",
    "        output = self.net(x)\n",
    "        return output"
   ]
  },
  {
   "cell_type": "code",
   "execution_count": 12,
   "id": "e0e38f8a",
   "metadata": {},
   "outputs": [
    {
     "name": "stdout",
     "output_type": "stream",
     "text": [
      "weights:  tensor([ 0.0124, -0.0300,  0.0275, -0.0354, -0.0005,  0.0229,  0.0324, -0.0056,\n",
      "         0.0028, -0.0215], grad_fn=<SliceBackward0>)\n",
      "bias:  tensor([-0.0225, -0.0149,  0.0258,  0.0410,  0.0232, -0.0307, -0.0196,  0.0391,\n",
      "        -0.0055, -0.0414], grad_fn=<SliceBackward0>)\n",
      "=====================\n",
      "weights:  tensor([ 0.3663,  1.0643,  0.0746,  0.0075,  0.8304, -0.5193, -0.0839,  0.1247,\n",
      "         0.7318, -1.8451], grad_fn=<SliceBackward0>)\n",
      "bias:  tensor([0., 0., 0., 0., 0., 0., 0., 0., 0., 0.], grad_fn=<SliceBackward0>)\n"
     ]
    }
   ],
   "source": [
    "model = MyModel()"
   ]
  },
  {
   "cell_type": "markdown",
   "id": "5dde5ba8",
   "metadata": {},
   "source": [
    "### data.normal_、data.zero_ 寫法"
   ]
  },
  {
   "cell_type": "code",
   "execution_count": 13,
   "id": "babaa940",
   "metadata": {},
   "outputs": [],
   "source": [
    "class MyModel(nn.Module):\n",
    "    def __init__(self):\n",
    "        super(MyModel, self).__init__()\n",
    "        self.net = models.resnet18()\n",
    "        print(\"weights: \", self.net.fc.weight[0][:10])\n",
    "        print(\"bias: \", self.net.fc.bias[:10])\n",
    "        print(\"=====================\")\n",
    "        \n",
    "        self.apply(self.init_weights)\n",
    "        print(\"weights: \", self.net.fc.weight[0][:10])\n",
    "        print(\"bias: \", self.net.fc.bias[:10])\n",
    "        \n",
    "    def init_weights(self, module):\n",
    "        if isinstance(module, nn.Linear):\n",
    "            module.weight.data.normal_(mean=0.0, std=1.0)\n",
    "            \n",
    "            if module.bias is not None:\n",
    "                module.bias.data.zero_()\n",
    "        \n",
    "    def forward(self, x):\n",
    "        output = self.net(x)\n",
    "        return output"
   ]
  },
  {
   "cell_type": "code",
   "execution_count": 14,
   "id": "3a49fc04",
   "metadata": {},
   "outputs": [
    {
     "name": "stdout",
     "output_type": "stream",
     "text": [
      "weights:  tensor([-0.0099,  0.0295, -0.0219,  0.0023, -0.0422, -0.0371,  0.0238, -0.0077,\n",
      "         0.0160,  0.0006], grad_fn=<SliceBackward0>)\n",
      "bias:  tensor([-0.0103,  0.0023, -0.0279,  0.0155, -0.0325,  0.0441,  0.0082,  0.0163,\n",
      "         0.0407, -0.0351], grad_fn=<SliceBackward0>)\n",
      "=====================\n",
      "weights:  tensor([ 0.8214, -1.7671,  0.5230, -0.1822, -0.0327,  0.8022,  0.2237,  0.1050,\n",
      "         0.5963, -0.1409], grad_fn=<SliceBackward0>)\n",
      "bias:  tensor([0., 0., 0., 0., 0., 0., 0., 0., 0., 0.], grad_fn=<SliceBackward0>)\n"
     ]
    }
   ],
   "source": [
    "model = MyModel()"
   ]
  },
  {
   "cell_type": "markdown",
   "id": "cf7d7e3d",
   "metadata": {},
   "source": [
    "## 將多個不同 layer 進行初始化設定"
   ]
  },
  {
   "cell_type": "code",
   "execution_count": 15,
   "id": "de31051a",
   "metadata": {},
   "outputs": [],
   "source": [
    "class MyModel(nn.Module):\n",
    "    def __init__(self):\n",
    "        super(MyModel, self).__init__()\n",
    "        self.net = models.resnet18()\n",
    "        print(\"weights: \", self.net.conv1.weight[0][:10])\n",
    "        print(\"=====================\")\n",
    "        \n",
    "        self.apply(self.init_weights)\n",
    "        print(\"weights: \", self.net.conv1.weight[0][:10])\n",
    "        \n",
    "    def init_weights(self, module):\n",
    "        if isinstance(module, (nn.Linear, nn.Conv2d)):\n",
    "            nn.init.normal_(module.weight.data, mean=0.0, std=1.0)\n",
    "            \n",
    "            if module.bias is not None:\n",
    "                nn.init.zeros_(module.bias.data)\n",
    "        \n",
    "    def forward(self, x):\n",
    "        output = self.net(x)\n",
    "        return output"
   ]
  },
  {
   "cell_type": "code",
   "execution_count": 16,
   "id": "77fd07de",
   "metadata": {
    "scrolled": true
   },
   "outputs": [
    {
     "name": "stdout",
     "output_type": "stream",
     "text": [
      "weights:  tensor([[[-0.0319, -0.0145, -0.0185,  0.0057,  0.0001,  0.0433, -0.0117],\n",
      "         [ 0.0405, -0.0316, -0.0135,  0.0019,  0.0007,  0.0032,  0.0305],\n",
      "         [ 0.0050, -0.0084, -0.0146,  0.0184, -0.0172, -0.0029,  0.0319],\n",
      "         [ 0.0082,  0.0106,  0.0229,  0.0060,  0.0499, -0.0197,  0.0040],\n",
      "         [ 0.0133,  0.0116, -0.0512,  0.0193, -0.0222, -0.0523,  0.0177],\n",
      "         [-0.0311, -0.0272,  0.0080, -0.0590,  0.0138,  0.0333, -0.0300],\n",
      "         [-0.0417, -0.0587,  0.0343,  0.0311,  0.0013,  0.0216,  0.0217]],\n",
      "\n",
      "        [[ 0.0033,  0.0007,  0.0176, -0.0081, -0.0109, -0.0139,  0.0220],\n",
      "         [-0.0155, -0.0324, -0.0097, -0.0308, -0.0033, -0.0112, -0.0142],\n",
      "         [-0.0187,  0.0068, -0.0196, -0.0388, -0.0116,  0.0081, -0.0016],\n",
      "         [ 0.0434, -0.0057, -0.0240, -0.0335,  0.0303, -0.0025, -0.0194],\n",
      "         [ 0.0018,  0.0358, -0.0005,  0.0317, -0.0479,  0.0113,  0.0030],\n",
      "         [ 0.0159, -0.0216, -0.0118, -0.0303,  0.0004, -0.0065,  0.0262],\n",
      "         [-0.0066, -0.0389,  0.0145, -0.0067, -0.0134, -0.0472,  0.0015]],\n",
      "\n",
      "        [[-0.0014, -0.0159,  0.0558, -0.0046,  0.0112, -0.0291,  0.0169],\n",
      "         [ 0.0174,  0.0369, -0.0317,  0.0005, -0.0011, -0.0384, -0.0065],\n",
      "         [ 0.0201, -0.0081,  0.0402, -0.0104, -0.0052, -0.0488, -0.0139],\n",
      "         [-0.0014, -0.0252,  0.0328, -0.0183,  0.0337,  0.0138, -0.0432],\n",
      "         [ 0.0007, -0.0179,  0.0056, -0.0030,  0.0191,  0.0150, -0.0236],\n",
      "         [ 0.0142, -0.0236, -0.0284, -0.0281, -0.0274,  0.0445,  0.0332],\n",
      "         [-0.0264,  0.0070, -0.0441,  0.0289, -0.0322,  0.0095, -0.0481]]],\n",
      "       grad_fn=<SliceBackward0>)\n",
      "=====================\n",
      "weights:  tensor([[[-8.8904e-01, -2.0701e+00,  1.0050e-01,  7.2429e-01, -7.4054e-01,\n",
      "          -9.5613e-02,  1.7815e-01],\n",
      "         [ 1.3712e-01,  4.1837e-01,  7.3798e-01,  6.6692e-01,  1.8456e+00,\n",
      "           8.2059e-01,  1.2366e-01],\n",
      "         [ 6.5705e-01, -3.4305e-01, -1.6582e-01,  1.0174e+00, -3.1926e-01,\n",
      "           6.1580e-01,  7.7755e-04],\n",
      "         [ 2.7073e-01, -6.9397e-01,  3.0917e-01, -1.0479e+00, -1.0288e+00,\n",
      "           5.9288e-01, -1.9933e-01],\n",
      "         [ 2.0626e-01,  3.0711e-01, -8.5745e-01,  5.9592e-01, -1.2377e+00,\n",
      "          -4.2610e-01, -1.0987e+00],\n",
      "         [ 2.4862e-01,  1.3476e+00,  9.5693e-01,  2.0993e-01, -5.2088e-01,\n",
      "          -5.0817e-02, -4.3623e-01],\n",
      "         [-1.1765e+00, -9.1132e-01, -7.5022e-01,  8.9937e-02, -6.4415e-01,\n",
      "          -1.0608e+00, -6.4631e-02]],\n",
      "\n",
      "        [[ 5.9647e-01,  1.0757e+00,  4.2822e-01,  6.6960e-02, -4.3867e-01,\n",
      "          -1.4799e+00, -1.0366e+00],\n",
      "         [ 1.2957e+00, -2.0170e+00,  7.3855e-02,  1.2510e+00, -1.2714e+00,\n",
      "          -1.0453e+00,  6.1350e-01],\n",
      "         [-1.3531e+00,  1.2225e+00,  4.3358e-01, -2.3015e+00,  8.1318e-01,\n",
      "           1.2633e-01,  4.8070e-01],\n",
      "         [-9.4836e-01,  2.9620e-02,  1.4548e-01, -6.8729e-02, -4.5828e-02,\n",
      "           1.7245e+00,  6.2282e-01],\n",
      "         [-1.7027e-02,  1.1834e+00,  7.5943e-01,  1.3469e+00,  9.7271e-01,\n",
      "          -7.7879e-01,  2.5491e-01],\n",
      "         [-6.4239e-03,  3.6917e-01,  2.9496e+00, -3.9017e-01, -1.5723e+00,\n",
      "          -7.1125e-01, -3.4555e-01],\n",
      "         [ 2.5523e-01, -1.1647e+00,  1.6443e-01, -1.1271e+00, -1.6533e-01,\n",
      "          -4.7834e-01,  5.4907e-01]],\n",
      "\n",
      "        [[ 1.6279e-01,  3.5430e-02,  1.1539e+00,  1.7508e+00, -3.1444e+00,\n",
      "           2.9327e-01, -1.3771e+00],\n",
      "         [-6.8586e-02,  8.4898e-01, -7.8244e-01, -2.2995e+00, -3.1493e-01,\n",
      "           8.0619e-01, -1.0681e+00],\n",
      "         [ 1.1008e-01,  5.9438e-01, -9.7449e-02,  4.8654e-01,  7.0861e-01,\n",
      "          -1.0497e+00, -7.3548e-01],\n",
      "         [-5.1572e-03,  1.4781e+00, -1.5989e+00,  5.3535e-01, -1.3887e-01,\n",
      "           1.0668e-01, -1.1563e+00],\n",
      "         [ 2.3267e+00,  9.4164e-01, -1.4906e+00,  1.2799e+00, -2.1437e-01,\n",
      "           1.2647e-01,  1.1495e+00],\n",
      "         [-5.8708e-01,  1.5703e+00,  2.1097e+00,  1.7637e-01,  8.9124e-01,\n",
      "           9.4806e-01,  9.7769e-01],\n",
      "         [ 4.1859e-01,  4.8259e-01,  5.3775e-02, -2.3132e+00,  6.0595e-01,\n",
      "           6.1304e-01,  3.1356e-01]]], grad_fn=<SliceBackward0>)\n"
     ]
    }
   ],
   "source": [
    "model = MyModel()"
   ]
  },
  {
   "cell_type": "markdown",
   "id": "d739a471",
   "metadata": {},
   "source": [
    "# 權重初始化定義在模型外部"
   ]
  },
  {
   "cell_type": "markdown",
   "id": "13bc3fd6",
   "metadata": {},
   "source": [
    "## 直接定義\n",
    "### data.normal_、data.zero_"
   ]
  },
  {
   "cell_type": "code",
   "execution_count": 38,
   "id": "c1a94fbc",
   "metadata": {},
   "outputs": [],
   "source": [
    "class MyModel(nn.Module):\n",
    "    def __init__(self):\n",
    "        super(MyModel, self).__init__()\n",
    "        self.net = models.resnet18()\n",
    "        \n",
    "    def forward(self, x):\n",
    "        output = self.net(x)\n",
    "        return output"
   ]
  },
  {
   "cell_type": "code",
   "execution_count": 39,
   "id": "51ea662d",
   "metadata": {},
   "outputs": [],
   "source": [
    "model = MyModel()"
   ]
  },
  {
   "cell_type": "code",
   "execution_count": 40,
   "id": "72ee0d74",
   "metadata": {},
   "outputs": [
    {
     "name": "stdout",
     "output_type": "stream",
     "text": [
      "weights:  tensor([-0.0177, -0.0383,  0.0188,  0.0390,  0.0256, -0.0224, -0.0312,  0.0102,\n",
      "         0.0342,  0.0323], grad_fn=<SliceBackward0>)\n",
      "bias:  tensor([ 0.0340,  0.0321,  0.0181,  0.0400,  0.0119,  0.0009, -0.0185, -0.0041,\n",
      "         0.0240,  0.0040], grad_fn=<SliceBackward0>)\n",
      "=====================\n",
      "weights:  tensor([-0.2647, -0.7330,  0.1211, -0.1159, -0.1106,  0.3854,  0.4741,  1.1223,\n",
      "        -0.5903, -0.0706], grad_fn=<SliceBackward0>)\n",
      "bias:  tensor([0., 0., 0., 0., 0., 0., 0., 0., 0., 0.], grad_fn=<SliceBackward0>)\n"
     ]
    }
   ],
   "source": [
    "print(\"weights: \", model.net.fc.weight[0][:10])\n",
    "print(\"bias: \", model.net.fc.bias[:10])\n",
    "print(\"=====================\")\n",
    "model.net.fc.weight.data.normal_(mean=0.0, std=1.0)\n",
    "model.net.fc.bias.data.zero_()\n",
    "print(\"weights: \", model.net.fc.weight[0][:10])\n",
    "print(\"bias: \", model.net.fc.bias[:10])"
   ]
  },
  {
   "cell_type": "markdown",
   "id": "081bda43",
   "metadata": {},
   "source": [
    "## apply\n",
    "### torch.nn.Parameter"
   ]
  },
  {
   "cell_type": "code",
   "execution_count": 20,
   "id": "53e173d9",
   "metadata": {},
   "outputs": [],
   "source": [
    "model = MyModel()"
   ]
  },
  {
   "cell_type": "code",
   "execution_count": 21,
   "id": "5bc5ece8",
   "metadata": {},
   "outputs": [],
   "source": [
    "def init_weights(module):\n",
    "    if isinstance(module, nn.Linear):\n",
    "        module.weight = torch.nn.Parameter(torch.ones(module.weight.shape)*0.9, requires_grad=True)\n",
    "\n",
    "        if module.bias is not None:\n",
    "            module.bias = torch.nn.Parameter(torch.zeros(module.bias.shape), requires_grad=True)"
   ]
  },
  {
   "cell_type": "code",
   "execution_count": 22,
   "id": "1e1b8fae",
   "metadata": {},
   "outputs": [
    {
     "name": "stdout",
     "output_type": "stream",
     "text": [
      "weights:  tensor([ 0.0149,  0.0048,  0.0107, -0.0305, -0.0032, -0.0392, -0.0277,  0.0231,\n",
      "         0.0438,  0.0220], grad_fn=<SliceBackward0>)\n",
      "bias:  tensor([-0.0240,  0.0434,  0.0303, -0.0400,  0.0099,  0.0414, -0.0095, -0.0247,\n",
      "         0.0179, -0.0266], grad_fn=<SliceBackward0>)\n",
      "=====================\n",
      "weights:  tensor([0.9000, 0.9000, 0.9000, 0.9000, 0.9000, 0.9000, 0.9000, 0.9000, 0.9000,\n",
      "        0.9000], grad_fn=<SliceBackward0>)\n",
      "bias:  tensor([0., 0., 0., 0., 0., 0., 0., 0., 0., 0.], grad_fn=<SliceBackward0>)\n"
     ]
    }
   ],
   "source": [
    "print(\"weights: \", model.net.fc.weight[0][:10])\n",
    "print(\"bias: \", model.net.fc.bias[:10])\n",
    "print(\"=====================\")\n",
    "\n",
    "model.apply(init_weights)\n",
    "print(\"weights: \", model.net.fc.weight[0][:10])\n",
    "print(\"bias: \", model.net.fc.bias[:10])"
   ]
  },
  {
   "cell_type": "markdown",
   "id": "925f0946",
   "metadata": {},
   "source": [
    "### data.normal_、data.zero_"
   ]
  },
  {
   "cell_type": "code",
   "execution_count": 23,
   "id": "85cf119d",
   "metadata": {},
   "outputs": [],
   "source": [
    "model = MyModel()"
   ]
  },
  {
   "cell_type": "code",
   "execution_count": 24,
   "id": "792b1009",
   "metadata": {},
   "outputs": [],
   "source": [
    "def init_weights(module):\n",
    "    if isinstance(module, nn.Linear):\n",
    "        module.weight.data.normal_(mean=0.0, std=1.0)\n",
    "            \n",
    "        if module.bias is not None:\n",
    "            module.bias.data.zero_()"
   ]
  },
  {
   "cell_type": "code",
   "execution_count": 25,
   "id": "4543457f",
   "metadata": {},
   "outputs": [
    {
     "name": "stdout",
     "output_type": "stream",
     "text": [
      "weights:  tensor([ 0.0011,  0.0332,  0.0402, -0.0004, -0.0139,  0.0054, -0.0275, -0.0018,\n",
      "        -0.0239,  0.0356], grad_fn=<SliceBackward0>)\n",
      "bias:  tensor([ 0.0101,  0.0019,  0.0201,  0.0248, -0.0377, -0.0390, -0.0401, -0.0009,\n",
      "        -0.0267, -0.0100], grad_fn=<SliceBackward0>)\n",
      "=====================\n",
      "weights:  tensor([ 0.0938, -0.6255,  1.1889,  0.6034,  1.6854,  0.1906,  1.3271,  1.3844,\n",
      "        -1.7708, -1.0778], grad_fn=<SliceBackward0>)\n",
      "bias:  tensor([0., 0., 0., 0., 0., 0., 0., 0., 0., 0.], grad_fn=<SliceBackward0>)\n"
     ]
    }
   ],
   "source": [
    "print(\"weights: \", model.net.fc.weight[0][:10])\n",
    "print(\"bias: \", model.net.fc.bias[:10])\n",
    "print(\"=====================\")\n",
    "\n",
    "model.apply(init_weights)\n",
    "print(\"weights: \", model.net.fc.weight[0][:10])\n",
    "print(\"bias: \", model.net.fc.bias[:10])"
   ]
  },
  {
   "cell_type": "markdown",
   "id": "1cae27f1",
   "metadata": {},
   "source": [
    "# 模型權重複製"
   ]
  },
  {
   "cell_type": "markdown",
   "id": "87060900",
   "metadata": {},
   "source": [
    "## 複製一個模型權重至另一個模型"
   ]
  },
  {
   "cell_type": "code",
   "execution_count": 26,
   "id": "bd39e77f",
   "metadata": {},
   "outputs": [],
   "source": [
    "checkpoint = torch.load('resnet_weights.pth')"
   ]
  },
  {
   "cell_type": "code",
   "execution_count": 27,
   "id": "5a44e601",
   "metadata": {},
   "outputs": [],
   "source": [
    "class MyModel(nn.Module):\n",
    "    def __init__(self):\n",
    "        super(MyModel, self).__init__()\n",
    "        self.resnet = models.resnet18()\n",
    "        self.resnet.fc = nn.Linear(512, 256)\n",
    "        self.linear = nn.Linear(256, 10)\n",
    "        \n",
    "    def forward(self, x):\n",
    "        x = self.net(x)\n",
    "        output = self.linear(x)\n",
    "        \n",
    "        return output"
   ]
  },
  {
   "cell_type": "code",
   "execution_count": 28,
   "id": "11f3326c",
   "metadata": {},
   "outputs": [],
   "source": [
    "model = MyModel()"
   ]
  },
  {
   "cell_type": "code",
   "execution_count": 29,
   "id": "55b65ae4",
   "metadata": {},
   "outputs": [
    {
     "name": "stdout",
     "output_type": "stream",
     "text": [
      "weights:  tensor([[-0.0006, -0.0150,  0.0463, -0.0079, -0.0152,  0.0115,  0.0249],\n",
      "        [-0.0154,  0.0046,  0.0252,  0.0479,  0.0018, -0.0133, -0.0048],\n",
      "        [ 0.0047,  0.0077,  0.0154,  0.0016, -0.0147, -0.0068, -0.0362],\n",
      "        [ 0.0425, -0.0370,  0.0107,  0.0094, -0.0246,  0.0161, -0.0203],\n",
      "        [ 0.0256, -0.0016, -0.0147,  0.0002,  0.0113,  0.0191,  0.0252],\n",
      "        [ 0.0187, -0.0308,  0.0402,  0.0105, -0.0355, -0.0450,  0.0135],\n",
      "        [ 0.0285,  0.0155, -0.0073, -0.0131, -0.0070,  0.0490,  0.0098]],\n",
      "       grad_fn=<SelectBackward0>)\n"
     ]
    }
   ],
   "source": [
    "print(\"weights: \", model.resnet.conv1.weight[0][0])"
   ]
  },
  {
   "cell_type": "code",
   "execution_count": 30,
   "id": "e16e779f",
   "metadata": {},
   "outputs": [],
   "source": [
    "pretrained_dict = {k: v for k, v in checkpoint.items() if k not in ['resnet.fc.weight', 'resnet.fc.bias']}"
   ]
  },
  {
   "cell_type": "code",
   "execution_count": 31,
   "id": "21485d1f",
   "metadata": {},
   "outputs": [
    {
     "data": {
      "text/plain": [
       "tensor([[-0.0322, -0.0509, -0.0117, -0.0062,  0.0003, -0.0347,  0.0073],\n",
       "        [-0.0072, -0.0488, -0.0295, -0.0035, -0.0362, -0.0497, -0.0226],\n",
       "        [ 0.0087,  0.0136,  0.0176,  0.0150, -0.0127,  0.0358,  0.0585],\n",
       "        [-0.0243,  0.0452,  0.0083,  0.0163, -0.0355,  0.0162, -0.0159],\n",
       "        [-0.0291,  0.0263,  0.0014,  0.0211, -0.0300,  0.0307,  0.0133],\n",
       "        [ 0.0156, -0.0002,  0.0679,  0.0492, -0.0200, -0.0276,  0.0333],\n",
       "        [-0.0059, -0.0139,  0.0266, -0.0367, -0.0117,  0.0113, -0.0111]])"
      ]
     },
     "execution_count": 31,
     "metadata": {},
     "output_type": "execute_result"
    }
   ],
   "source": [
    "pretrained_dict['resnet.conv1.weight'][0][0]"
   ]
  },
  {
   "cell_type": "code",
   "execution_count": 32,
   "id": "80214bcd",
   "metadata": {
    "scrolled": true
   },
   "outputs": [
    {
     "data": {
      "text/plain": [
       "<All keys matched successfully>"
      ]
     },
     "execution_count": 32,
     "metadata": {},
     "output_type": "execute_result"
    }
   ],
   "source": [
    "model_state = model.state_dict()\n",
    "model_state.update(pretrained_dict)\n",
    "model.load_state_dict(model_state, strict=False)"
   ]
  },
  {
   "cell_type": "code",
   "execution_count": 33,
   "id": "75c6f63a",
   "metadata": {},
   "outputs": [
    {
     "name": "stdout",
     "output_type": "stream",
     "text": [
      "weights:  tensor([[-0.0322, -0.0509, -0.0117, -0.0062,  0.0003, -0.0347,  0.0073],\n",
      "        [-0.0072, -0.0488, -0.0295, -0.0035, -0.0362, -0.0497, -0.0226],\n",
      "        [ 0.0087,  0.0136,  0.0176,  0.0150, -0.0127,  0.0358,  0.0585],\n",
      "        [-0.0243,  0.0452,  0.0083,  0.0163, -0.0355,  0.0162, -0.0159],\n",
      "        [-0.0291,  0.0263,  0.0014,  0.0211, -0.0300,  0.0307,  0.0133],\n",
      "        [ 0.0156, -0.0002,  0.0679,  0.0492, -0.0200, -0.0276,  0.0333],\n",
      "        [-0.0059, -0.0139,  0.0266, -0.0367, -0.0117,  0.0113, -0.0111]],\n",
      "       grad_fn=<SelectBackward0>)\n"
     ]
    }
   ],
   "source": [
    "print(\"weights: \", model.resnet.conv1.weight[0][0])"
   ]
  },
  {
   "cell_type": "markdown",
   "id": "7848e912",
   "metadata": {},
   "source": [
    "## 複製某些層權重至其他層"
   ]
  },
  {
   "cell_type": "code",
   "execution_count": 34,
   "id": "53a01c95",
   "metadata": {},
   "outputs": [],
   "source": [
    "from collections import OrderedDict\n",
    "\n",
    "class MyModel(nn.Module):\n",
    "    def __init__(self):\n",
    "        super(MyModel, self).__init__()\n",
    "        self.net1 = nn.Sequential(OrderedDict([\n",
    "            ('conv1', nn.Conv2d(256, 128, 3)), \n",
    "            ('relu1', nn.ReLU()), \n",
    "            ('conv2', nn.Conv2d(128, 10, 3)),\n",
    "            ('relu2', nn.ReLU()),\n",
    "        ]))\n",
    "        \n",
    "        self.net2 = nn.Sequential(OrderedDict([\n",
    "            ('conv1', nn.Conv2d(256, 128, 3)), \n",
    "            ('relu1', nn.ReLU()), \n",
    "            ('conv2', nn.Conv2d(128, 10, 3)),\n",
    "            ('relu2', nn.ReLU()),\n",
    "        ]))\n",
    "                \n",
    "    def forward(self, x):\n",
    "        x1 = self.net1(x)\n",
    "        x2 = self.net2(x)\n",
    "        \n",
    "        return x1, x2"
   ]
  },
  {
   "cell_type": "code",
   "execution_count": 35,
   "id": "88c230b4",
   "metadata": {},
   "outputs": [],
   "source": [
    "model_1 = MyModel()"
   ]
  },
  {
   "cell_type": "code",
   "execution_count": 36,
   "id": "df54315b",
   "metadata": {
    "scrolled": true
   },
   "outputs": [
    {
     "name": "stdout",
     "output_type": "stream",
     "text": [
      "name:  net1.conv1.weight\n",
      "name:  net1.conv1.bias\n",
      "name:  net1.conv2.weight\n",
      "name:  net1.conv2.bias\n",
      "name:  net2.conv1.weight\n",
      "name:  net2.conv1.bias\n",
      "name:  net2.conv2.weight\n",
      "name:  net2.conv2.bias\n"
     ]
    }
   ],
   "source": [
    "for name, param in model_1.named_parameters():\n",
    "    print(\"name: \", name)"
   ]
  },
  {
   "cell_type": "code",
   "execution_count": 37,
   "id": "dbabb565",
   "metadata": {},
   "outputs": [
    {
     "name": "stdout",
     "output_type": "stream",
     "text": [
      "========= 0 =========\n",
      "org:\n",
      "net1 weights: tensor([[-0.0167,  0.0080, -0.0142],\n",
      "        [-0.0078, -0.0056, -0.0023],\n",
      "        [ 0.0091, -0.0146, -0.0120]], requires_grad=True)\n",
      "net2 weights: tensor([[-0.0045,  0.0046,  0.0058],\n",
      "        [-0.0091,  0.0138, -0.0193],\n",
      "        [ 0.0091,  0.0119, -0.0138]], requires_grad=True)\n",
      "=====================\n",
      "new:\n",
      "net1 weights: tensor([[-0.0167,  0.0080, -0.0142],\n",
      "        [-0.0078, -0.0056, -0.0023],\n",
      "        [ 0.0091, -0.0146, -0.0120]], requires_grad=True)\n",
      "net2 weights: tensor([[-0.0167,  0.0080, -0.0142],\n",
      "        [-0.0078, -0.0056, -0.0023],\n",
      "        [ 0.0091, -0.0146, -0.0120]], requires_grad=True)\n",
      "========= 2 =========\n",
      "org:\n",
      "net1 weights: tensor([[-0.0119,  0.0113, -0.0167],\n",
      "        [-0.0195,  0.0121, -0.0249],\n",
      "        [-0.0240,  0.0281, -0.0243]], requires_grad=True)\n",
      "net2 weights: tensor([[ 0.0269, -0.0043,  0.0169],\n",
      "        [ 0.0139,  0.0185, -0.0151],\n",
      "        [ 0.0261, -0.0009, -0.0192]], requires_grad=True)\n",
      "=====================\n",
      "new:\n",
      "net1 weights: tensor([[-0.0119,  0.0113, -0.0167],\n",
      "        [-0.0195,  0.0121, -0.0249],\n",
      "        [-0.0240,  0.0281, -0.0243]], requires_grad=True)\n",
      "net2 weights: tensor([[-0.0119,  0.0113, -0.0167],\n",
      "        [-0.0195,  0.0121, -0.0249],\n",
      "        [-0.0240,  0.0281, -0.0243]], requires_grad=True)\n"
     ]
    }
   ],
   "source": [
    "with torch.no_grad():\n",
    "    for i in range(len(model_1.net1)):\n",
    "        if isinstance(model_1.net1[i], nn.Conv2d):\n",
    "            print(\"========= {} =========\".format(i))\n",
    "            print(\"org:\")\n",
    "            print(\"net1 weights:\", model_1.net1[i].weight[0][0])\n",
    "            print(\"net2 weights:\", model_1.net2[i].weight[0][0])\n",
    "            \n",
    "            model_1.net2[i].weight.copy_(model_1.net1[i].weight)\n",
    "\n",
    "            print(\"=====================\")\n",
    "            print(\"new:\")\n",
    "            print(\"net1 weights:\", model_1.net1[i].weight[0][0])\n",
    "            print(\"net2 weights:\", model_1.net2[i].weight[0][0])"
   ]
  },
  {
   "cell_type": "code",
   "execution_count": null,
   "id": "53abba73",
   "metadata": {},
   "outputs": [],
   "source": []
  }
 ],
 "metadata": {
  "kernelspec": {
   "display_name": "pytorch_v13",
   "language": "python",
   "name": "pytorch_v13"
  },
  "language_info": {
   "codemirror_mode": {
    "name": "ipython",
    "version": 3
   },
   "file_extension": ".py",
   "mimetype": "text/x-python",
   "name": "python",
   "nbconvert_exporter": "python",
   "pygments_lexer": "ipython3",
   "version": "3.9.15"
  }
 },
 "nbformat": 4,
 "nbformat_minor": 5
}
